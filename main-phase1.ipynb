{
 "cells": [
  {
   "cell_type": "code",
   "execution_count": null,
   "metadata": {},
   "outputs": [],
   "source": [
    "import pandas as pd\n",
    "import numpy as np\n",
    "import statistics\n",
    "import matplotlib.pyplot as plt\n",
    "from sklearn.cluster import AgglomerativeClustering, KMeans, DBSCAN, OPTICS, Birch\n",
    "from sklearn.preprocessing import StandardScaler\n",
    "from sklearn.preprocessing import MinMaxScaler\n",
    "from numba import njit, prange\n",
    "import itertools\n",
    "import math\n",
    "import haversine as hs\n",
    "import requests\n",
    "import json\n",
    "import time"
   ]
  },
  {
   "cell_type": "code",
   "execution_count": 29,
   "metadata": {},
   "outputs": [
    {
     "name": "stderr",
     "output_type": "stream",
     "text": [
      "Exception ignored in: <generator object iterparse.<locals>.iterator at 0x000001AA5D629D20>\n",
      "Traceback (most recent call last):\n",
      "  File \"c:\\Python310\\lib\\xml\\etree\\ElementTree.py\", line 1270, in iterator\n",
      "    if close_source:\n",
      "KeyboardInterrupt: \n"
     ]
    }
   ],
   "source": [
    "df = pd.read_excel('CargoSample.xlsx')\n",
    "df = df.dropna()\n",
    "dates = df['CargoDate'].unique()"
   ]
  },
  {
   "cell_type": "code",
   "execution_count": null,
   "metadata": {},
   "outputs": [
    {
     "data": {
      "text/html": [
       "<div>\n",
       "<style scoped>\n",
       "    .dataframe tbody tr th:only-of-type {\n",
       "        vertical-align: middle;\n",
       "    }\n",
       "\n",
       "    .dataframe tbody tr th {\n",
       "        vertical-align: top;\n",
       "    }\n",
       "\n",
       "    .dataframe thead th {\n",
       "        text-align: right;\n",
       "    }\n",
       "</style>\n",
       "<table border=\"1\" class=\"dataframe\">\n",
       "  <thead>\n",
       "    <tr style=\"text-align: right;\">\n",
       "      <th></th>\n",
       "      <th>Cargo_ID</th>\n",
       "      <th>DepartmentInfo_ID</th>\n",
       "      <th>CargoDate</th>\n",
       "      <th>SaleInvoice_ID</th>\n",
       "      <th>MainAccount_ID</th>\n",
       "      <th>LatitudePoint</th>\n",
       "      <th>LongitudePoint</th>\n",
       "    </tr>\n",
       "  </thead>\n",
       "  <tbody>\n",
       "    <tr>\n",
       "      <th>0</th>\n",
       "      <td>140218461</td>\n",
       "      <td>18</td>\n",
       "      <td>2023-07-03</td>\n",
       "      <td>1402189460</td>\n",
       "      <td>330623</td>\n",
       "      <td>38.475766</td>\n",
       "      <td>47.063073</td>\n",
       "    </tr>\n",
       "    <tr>\n",
       "      <th>1</th>\n",
       "      <td>140218504</td>\n",
       "      <td>18</td>\n",
       "      <td>2023-07-11</td>\n",
       "      <td>14021810299</td>\n",
       "      <td>330623</td>\n",
       "      <td>38.475766</td>\n",
       "      <td>47.063073</td>\n",
       "    </tr>\n",
       "    <tr>\n",
       "      <th>2</th>\n",
       "      <td>140218504</td>\n",
       "      <td>18</td>\n",
       "      <td>2023-07-11</td>\n",
       "      <td>14021810493</td>\n",
       "      <td>330623</td>\n",
       "      <td>38.475766</td>\n",
       "      <td>47.063073</td>\n",
       "    </tr>\n",
       "    <tr>\n",
       "      <th>3</th>\n",
       "      <td>140218465</td>\n",
       "      <td>18</td>\n",
       "      <td>2023-07-04</td>\n",
       "      <td>1402189463</td>\n",
       "      <td>330627</td>\n",
       "      <td>38.061419</td>\n",
       "      <td>46.322348</td>\n",
       "    </tr>\n",
       "    <tr>\n",
       "      <th>4</th>\n",
       "      <td>140218492</td>\n",
       "      <td>18</td>\n",
       "      <td>2023-07-10</td>\n",
       "      <td>14021810212</td>\n",
       "      <td>330627</td>\n",
       "      <td>38.061419</td>\n",
       "      <td>46.322348</td>\n",
       "    </tr>\n",
       "  </tbody>\n",
       "</table>\n",
       "</div>"
      ],
      "text/plain": [
       "    Cargo_ID  DepartmentInfo_ID  CargoDate  SaleInvoice_ID  MainAccount_ID  \\\n",
       "0  140218461                 18 2023-07-03      1402189460          330623   \n",
       "1  140218504                 18 2023-07-11     14021810299          330623   \n",
       "2  140218504                 18 2023-07-11     14021810493          330623   \n",
       "3  140218465                 18 2023-07-04      1402189463          330627   \n",
       "4  140218492                 18 2023-07-10     14021810212          330627   \n",
       "\n",
       "   LatitudePoint  LongitudePoint  \n",
       "0      38.475766       47.063073  \n",
       "1      38.475766       47.063073  \n",
       "2      38.475766       47.063073  \n",
       "3      38.061419       46.322348  \n",
       "4      38.061419       46.322348  "
      ]
     },
     "execution_count": 4,
     "metadata": {},
     "output_type": "execute_result"
    }
   ],
   "source": [
    "df.head()"
   ]
  },
  {
   "cell_type": "code",
   "execution_count": null,
   "metadata": {},
   "outputs": [
    {
     "data": {
      "text/html": [
       "<div>\n",
       "<style scoped>\n",
       "    .dataframe tbody tr th:only-of-type {\n",
       "        vertical-align: middle;\n",
       "    }\n",
       "\n",
       "    .dataframe tbody tr th {\n",
       "        vertical-align: top;\n",
       "    }\n",
       "\n",
       "    .dataframe thead th {\n",
       "        text-align: right;\n",
       "    }\n",
       "</style>\n",
       "<table border=\"1\" class=\"dataframe\">\n",
       "  <thead>\n",
       "    <tr style=\"text-align: right;\">\n",
       "      <th></th>\n",
       "      <th>Cargo_ID</th>\n",
       "      <th>DepartmentInfo_ID</th>\n",
       "      <th>SaleInvoice_ID</th>\n",
       "      <th>MainAccount_ID</th>\n",
       "      <th>LatitudePoint</th>\n",
       "      <th>LongitudePoint</th>\n",
       "    </tr>\n",
       "  </thead>\n",
       "  <tbody>\n",
       "    <tr>\n",
       "      <th>count</th>\n",
       "      <td>1.985100e+04</td>\n",
       "      <td>19851.000000</td>\n",
       "      <td>1.985100e+04</td>\n",
       "      <td>1.985100e+04</td>\n",
       "      <td>19851.000000</td>\n",
       "      <td>19851.000000</td>\n",
       "    </tr>\n",
       "    <tr>\n",
       "      <th>mean</th>\n",
       "      <td>4.650597e+08</td>\n",
       "      <td>29.075261</td>\n",
       "      <td>7.439222e+09</td>\n",
       "      <td>7.938756e+07</td>\n",
       "      <td>34.532162</td>\n",
       "      <td>51.710861</td>\n",
       "    </tr>\n",
       "    <tr>\n",
       "      <th>std</th>\n",
       "      <td>5.518665e+08</td>\n",
       "      <td>15.734324</td>\n",
       "      <td>6.305245e+09</td>\n",
       "      <td>3.038564e+08</td>\n",
       "      <td>3.050551</td>\n",
       "      <td>4.190524</td>\n",
       "    </tr>\n",
       "    <tr>\n",
       "      <th>min</th>\n",
       "      <td>1.402411e+07</td>\n",
       "      <td>8.000000</td>\n",
       "      <td>1.402412e+07</td>\n",
       "      <td>3.283910e+05</td>\n",
       "      <td>0.000000</td>\n",
       "      <td>0.000000</td>\n",
       "    </tr>\n",
       "    <tr>\n",
       "      <th>25%</th>\n",
       "      <td>1.402143e+08</td>\n",
       "      <td>14.000000</td>\n",
       "      <td>1.402326e+09</td>\n",
       "      <td>3.386380e+05</td>\n",
       "      <td>32.647165</td>\n",
       "      <td>49.580341</td>\n",
       "    </tr>\n",
       "    <tr>\n",
       "      <th>50%</th>\n",
       "      <td>1.402332e+08</td>\n",
       "      <td>32.000000</td>\n",
       "      <td>1.402401e+09</td>\n",
       "      <td>3.476130e+05</td>\n",
       "      <td>35.701350</td>\n",
       "      <td>51.395628</td>\n",
       "    </tr>\n",
       "    <tr>\n",
       "      <th>75%</th>\n",
       "      <td>1.402081e+09</td>\n",
       "      <td>49.000000</td>\n",
       "      <td>1.402181e+10</td>\n",
       "      <td>3.718650e+05</td>\n",
       "      <td>36.514100</td>\n",
       "      <td>52.712001</td>\n",
       "    </tr>\n",
       "    <tr>\n",
       "      <th>max</th>\n",
       "      <td>1.402512e+09</td>\n",
       "      <td>51.000000</td>\n",
       "      <td>1.402513e+10</td>\n",
       "      <td>1.401002e+09</td>\n",
       "      <td>39.652700</td>\n",
       "      <td>62.708922</td>\n",
       "    </tr>\n",
       "  </tbody>\n",
       "</table>\n",
       "</div>"
      ],
      "text/plain": [
       "           Cargo_ID  DepartmentInfo_ID  SaleInvoice_ID  MainAccount_ID  \\\n",
       "count  1.985100e+04       19851.000000    1.985100e+04    1.985100e+04   \n",
       "mean   4.650597e+08          29.075261    7.439222e+09    7.938756e+07   \n",
       "std    5.518665e+08          15.734324    6.305245e+09    3.038564e+08   \n",
       "min    1.402411e+07           8.000000    1.402412e+07    3.283910e+05   \n",
       "25%    1.402143e+08          14.000000    1.402326e+09    3.386380e+05   \n",
       "50%    1.402332e+08          32.000000    1.402401e+09    3.476130e+05   \n",
       "75%    1.402081e+09          49.000000    1.402181e+10    3.718650e+05   \n",
       "max    1.402512e+09          51.000000    1.402513e+10    1.401002e+09   \n",
       "\n",
       "       LatitudePoint  LongitudePoint  \n",
       "count   19851.000000    19851.000000  \n",
       "mean       34.532162       51.710861  \n",
       "std         3.050551        4.190524  \n",
       "min         0.000000        0.000000  \n",
       "25%        32.647165       49.580341  \n",
       "50%        35.701350       51.395628  \n",
       "75%        36.514100       52.712001  \n",
       "max        39.652700       62.708922  "
      ]
     },
     "execution_count": 5,
     "metadata": {},
     "output_type": "execute_result"
    }
   ],
   "source": [
    "df.describe()"
   ]
  },
  {
   "cell_type": "code",
   "execution_count": null,
   "metadata": {},
   "outputs": [
    {
     "data": {
      "text/plain": [
       "53.1612729435728"
      ]
     },
     "execution_count": 6,
     "metadata": {},
     "output_type": "execute_result"
    }
   ],
   "source": [
    "def compare_machine_to_human_clustering(df):\n",
    "    number_of_dates = len(dates)\n",
    "    sum_of_scores = 0\n",
    "    average = 0\n",
    "    for date in dates:\n",
    "        target_date_df = df.loc[df['CargoDate'] == date]\n",
    "        number_of_visitors = target_date_df.iloc[:, 0].unique().shape[0]\n",
    "\n",
    "        target_date_df = target_date_df.dropna()\n",
    "        target_date_df = target_date_df[(target_date_df['LatitudePoint'] > 0) & (target_date_df['LongitudePoint'] > 0)]\n",
    "\n",
    "        model = AgglomerativeClustering(n_clusters=number_of_visitors, affinity='euclidean', linkage='ward')\n",
    "        model.fit(target_date_df[['LatitudePoint', 'LongitudePoint']])\n",
    "        target_date_df['cluster'] = model.labels_\n",
    "\n",
    "        best_point = 0\n",
    "        current_point = 0\n",
    "        for cluster in target_date_df['cluster'].unique():\n",
    "            target_cluster_df = target_date_df.loc[target_date_df['cluster'] == cluster]\n",
    "            for cargo_id in target_cluster_df['Cargo_ID'].unique():\n",
    "                best_point += 1\n",
    "                target_cargo_df = target_cluster_df.loc[target_cluster_df['Cargo_ID'] == cargo_id]\n",
    "                current_point += target_cargo_df.shape[0] / target_cluster_df.shape[0]\n",
    "        sum_of_scores += (current_point/best_point) * 100\n",
    "    \n",
    "    average = sum_of_scores / number_of_dates\n",
    "    return average\n",
    "\n",
    "compare_machine_to_human_clustering(df)"
   ]
  },
  {
   "cell_type": "code",
   "execution_count": 39,
   "metadata": {},
   "outputs": [],
   "source": [
    "# Example of batch processing\n",
    "def calculate_distance_batch(points):\n",
    "    if(len(points) < 2):\n",
    "        return 0\n",
    "\n",
    "    requests_string = \"http://router.project-osrm.org/route/v1/car/\"\n",
    "\n",
    "    for index, (lat, lon) in enumerate(points):\n",
    "        requests_string += f\"{lon},{lat}\"\n",
    "        if index < len(points) - 1:\n",
    "            requests_string += \";\"\n",
    "\n",
    "    requests_string += \"?overview=false\"\n",
    "\n",
    "    r = requests.get(requests_string)\n",
    "    routes = json.loads(r.content)\n",
    "    return routes.get(\"routes\")[0][\"distance\"]\n",
    "\n",
    "def build_df_with_cluster(df):\n",
    "    target_date_df = df.loc[df['CargoDate'] == date]\n",
    "\n",
    "    number_of_visitors = target_date_df.iloc[:, 0].unique().shape[0]\n",
    "\n",
    "    target_date_df = target_date_df.dropna()\n",
    "    target_date_df = target_date_df[target_date_df['LatitudePoint'] > 0]\n",
    "\n",
    "    model = AgglomerativeClustering(n_clusters=number_of_visitors, affinity='euclidean', linkage='ward')\n",
    "    model.fit(target_date_df[['LatitudePoint', 'LongitudePoint']])\n",
    "\n",
    "    target_date_df['cluster'] = model.labels_\n",
    "\n",
    "    return target_date_df"
   ]
  },
  {
   "cell_type": "code",
   "execution_count": 43,
   "metadata": {},
   "outputs": [
    {
     "name": "stdout",
     "output_type": "stream",
     "text": [
      "['2023-07-14T00:00:00.000000000' '2023-07-03T00:00:00.000000000']\n",
      "2023-07-03T00:00:00.000000000\n",
      "Skipping calculation for date 2023-07-03T00:00:00.000000000. Result already exists.\n",
      "2023-07-11T00:00:00.000000000\n",
      "number of machine clusters 87\n",
      "number of human clusters 87\n"
     ]
    },
    {
     "name": "stderr",
     "output_type": "stream",
     "text": [
      "C:\\Users\\alast\\AppData\\Local\\Temp\\ipykernel_10588\\4021429294.py:40: FutureWarning: The frame.append method is deprecated and will be removed from pandas in a future version. Use pandas.concat instead.\n",
      "  result_df = result_df.append({'CargoDate': str(date), 'Machine': machine_computed_distance, 'Human': human_computed_distance}, ignore_index=True)\n"
     ]
    },
    {
     "name": "stdout",
     "output_type": "stream",
     "text": [
      "Result for date 2023-07-11T00:00:00.000000000 saved to result.xlsx\n",
      "2023-07-04T00:00:00.000000000\n",
      "number of machine clusters 109\n",
      "number of human clusters 109\n",
      "Error occurred while calculating distance for date 2023-07-04T00:00:00.000000000: 'NoneType' object is not subscriptable\n",
      "2023-07-10T00:00:00.000000000\n",
      "number of machine clusters 70\n",
      "number of human clusters 70\n"
     ]
    },
    {
     "name": "stderr",
     "output_type": "stream",
     "text": [
      "C:\\Users\\alast\\AppData\\Local\\Temp\\ipykernel_10588\\4021429294.py:40: FutureWarning: The frame.append method is deprecated and will be removed from pandas in a future version. Use pandas.concat instead.\n",
      "  result_df = result_df.append({'CargoDate': str(date), 'Machine': machine_computed_distance, 'Human': human_computed_distance}, ignore_index=True)\n"
     ]
    },
    {
     "name": "stdout",
     "output_type": "stream",
     "text": [
      "Result for date 2023-07-10T00:00:00.000000000 saved to result.xlsx\n",
      "2023-07-08T00:00:00.000000000\n",
      "number of machine clusters 98\n",
      "number of human clusters 98\n"
     ]
    },
    {
     "name": "stderr",
     "output_type": "stream",
     "text": [
      "C:\\Users\\alast\\AppData\\Local\\Temp\\ipykernel_10588\\4021429294.py:40: FutureWarning: The frame.append method is deprecated and will be removed from pandas in a future version. Use pandas.concat instead.\n",
      "  result_df = result_df.append({'CargoDate': str(date), 'Machine': machine_computed_distance, 'Human': human_computed_distance}, ignore_index=True)\n"
     ]
    },
    {
     "name": "stdout",
     "output_type": "stream",
     "text": [
      "Result for date 2023-07-08T00:00:00.000000000 saved to result.xlsx\n",
      "2023-07-02T00:00:00.000000000\n",
      "number of machine clusters 100\n",
      "number of human clusters 100\n"
     ]
    },
    {
     "name": "stderr",
     "output_type": "stream",
     "text": [
      "C:\\Users\\alast\\AppData\\Local\\Temp\\ipykernel_10588\\4021429294.py:40: FutureWarning: The frame.append method is deprecated and will be removed from pandas in a future version. Use pandas.concat instead.\n",
      "  result_df = result_df.append({'CargoDate': str(date), 'Machine': machine_computed_distance, 'Human': human_computed_distance}, ignore_index=True)\n"
     ]
    },
    {
     "name": "stdout",
     "output_type": "stream",
     "text": [
      "Result for date 2023-07-02T00:00:00.000000000 saved to result.xlsx\n",
      "2023-07-06T00:00:00.000000000\n",
      "number of machine clusters 91\n",
      "number of human clusters 91\n"
     ]
    },
    {
     "name": "stderr",
     "output_type": "stream",
     "text": [
      "C:\\Users\\alast\\AppData\\Local\\Temp\\ipykernel_10588\\4021429294.py:40: FutureWarning: The frame.append method is deprecated and will be removed from pandas in a future version. Use pandas.concat instead.\n",
      "  result_df = result_df.append({'CargoDate': str(date), 'Machine': machine_computed_distance, 'Human': human_computed_distance}, ignore_index=True)\n"
     ]
    },
    {
     "name": "stdout",
     "output_type": "stream",
     "text": [
      "Result for date 2023-07-06T00:00:00.000000000 saved to result.xlsx\n",
      "2023-07-12T00:00:00.000000000\n",
      "number of machine clusters 90\n",
      "number of human clusters 90\n"
     ]
    },
    {
     "name": "stderr",
     "output_type": "stream",
     "text": [
      "C:\\Users\\alast\\AppData\\Local\\Temp\\ipykernel_10588\\4021429294.py:40: FutureWarning: The frame.append method is deprecated and will be removed from pandas in a future version. Use pandas.concat instead.\n",
      "  result_df = result_df.append({'CargoDate': str(date), 'Machine': machine_computed_distance, 'Human': human_computed_distance}, ignore_index=True)\n"
     ]
    },
    {
     "name": "stdout",
     "output_type": "stream",
     "text": [
      "Result for date 2023-07-12T00:00:00.000000000 saved to result.xlsx\n",
      "2023-07-13T00:00:00.000000000\n",
      "number of machine clusters 89\n",
      "number of human clusters 89\n"
     ]
    },
    {
     "name": "stderr",
     "output_type": "stream",
     "text": [
      "C:\\Users\\alast\\AppData\\Local\\Temp\\ipykernel_10588\\4021429294.py:40: FutureWarning: The frame.append method is deprecated and will be removed from pandas in a future version. Use pandas.concat instead.\n",
      "  result_df = result_df.append({'CargoDate': str(date), 'Machine': machine_computed_distance, 'Human': human_computed_distance}, ignore_index=True)\n"
     ]
    },
    {
     "name": "stdout",
     "output_type": "stream",
     "text": [
      "Result for date 2023-07-13T00:00:00.000000000 saved to result.xlsx\n",
      "2023-07-05T00:00:00.000000000\n",
      "number of machine clusters 71\n",
      "number of human clusters 71\n"
     ]
    },
    {
     "name": "stderr",
     "output_type": "stream",
     "text": [
      "C:\\Users\\alast\\AppData\\Local\\Temp\\ipykernel_10588\\4021429294.py:40: FutureWarning: The frame.append method is deprecated and will be removed from pandas in a future version. Use pandas.concat instead.\n",
      "  result_df = result_df.append({'CargoDate': str(date), 'Machine': machine_computed_distance, 'Human': human_computed_distance}, ignore_index=True)\n"
     ]
    },
    {
     "name": "stdout",
     "output_type": "stream",
     "text": [
      "Result for date 2023-07-05T00:00:00.000000000 saved to result.xlsx\n",
      "2023-07-15T00:00:00.000000000\n",
      "number of machine clusters 56\n",
      "number of human clusters 56\n"
     ]
    },
    {
     "name": "stderr",
     "output_type": "stream",
     "text": [
      "C:\\Users\\alast\\AppData\\Local\\Temp\\ipykernel_10588\\4021429294.py:40: FutureWarning: The frame.append method is deprecated and will be removed from pandas in a future version. Use pandas.concat instead.\n",
      "  result_df = result_df.append({'CargoDate': str(date), 'Machine': machine_computed_distance, 'Human': human_computed_distance}, ignore_index=True)\n"
     ]
    },
    {
     "name": "stdout",
     "output_type": "stream",
     "text": [
      "Result for date 2023-07-15T00:00:00.000000000 saved to result.xlsx\n",
      "2023-07-09T00:00:00.000000000\n",
      "number of machine clusters 94\n",
      "number of human clusters 94\n"
     ]
    },
    {
     "name": "stderr",
     "output_type": "stream",
     "text": [
      "C:\\Users\\alast\\AppData\\Local\\Temp\\ipykernel_10588\\4021429294.py:40: FutureWarning: The frame.append method is deprecated and will be removed from pandas in a future version. Use pandas.concat instead.\n",
      "  result_df = result_df.append({'CargoDate': str(date), 'Machine': machine_computed_distance, 'Human': human_computed_distance}, ignore_index=True)\n"
     ]
    },
    {
     "name": "stdout",
     "output_type": "stream",
     "text": [
      "Result for date 2023-07-09T00:00:00.000000000 saved to result.xlsx\n",
      "2023-07-14T00:00:00.000000000\n",
      "Skipping calculation for date 2023-07-14T00:00:00.000000000. Result already exists.\n"
     ]
    }
   ],
   "source": [
    "import pandas as pd\n",
    "import os.path\n",
    "\n",
    "# Check if the result Excel file already exists\n",
    "result_file_path = 'result.xlsx'\n",
    "if os.path.exists(result_file_path):\n",
    "    # Load existing results to avoid redundant calculations\n",
    "    result_df = pd.read_excel(result_file_path)\n",
    "    result_df.columns = ['CargoDate', 'Machine', 'Human']\n",
    "else:\n",
    "    # Create a new DataFrame if the file doesn't exist\n",
    "    result_df = pd.DataFrame(columns=['CargoDate', 'Machine', 'Human'], names=['CargoDate', 'Machine', 'Human'])\n",
    "print(result_df['CargoDate'].values)\n",
    "for date in dates:\n",
    "    print(str(date))\n",
    "    # Check if the date already exists in the result DataFrame\n",
    "    if str(date) in result_df['CargoDate'].values:\n",
    "        print(f\"Skipping calculation for date {date}. Result already exists.\")\n",
    "        continue\n",
    "\n",
    "    try:\n",
    "        target_date_df = build_df_with_cluster(df)\n",
    "\n",
    "        machine_computed_distance = 0\n",
    "        print(\"number of machine clusters\", len(target_date_df['cluster'].unique()))\n",
    "        for cluster in target_date_df['cluster'].unique():\n",
    "            t_df2 = target_date_df.loc[target_date_df['cluster'] == cluster]\n",
    "            distance = calculate_distance_batch(t_df2[['LatitudePoint', 'LongitudePoint']].values.tolist())\n",
    "\n",
    "            machine_computed_distance += distance\n",
    "                    \n",
    "        human_computed_distance = 0\n",
    "        print(\"number of human clusters\", len(target_date_df['Cargo_ID'].unique()))\n",
    "        for user_cluster in target_date_df['Cargo_ID'].unique():\n",
    "            t_df2 = target_date_df.loc[target_date_df['Cargo_ID'] == user_cluster]\n",
    "            distance = calculate_distance_batch(t_df2[['LatitudePoint', 'LongitudePoint']].values.tolist())\n",
    "            human_computed_distance += distance\n",
    "\n",
    "        # Append the result to the DataFrame\n",
    "        result_df = result_df.append({'CargoDate': str(date), 'Machine': machine_computed_distance, 'Human': human_computed_distance}, ignore_index=True)\n",
    "\n",
    "        # Save the result to the Excel file\n",
    "        result_df.to_excel(result_file_path, index=False, header=False)\n",
    "        print(f\"Result for date {date} saved to {result_file_path}\")\n",
    "        \n",
    "        time.sleep(50)\n",
    "\n",
    "    except Exception as error:\n",
    "        print(f\"Error occurred while calculating distance for date {date}: {error}\")\n",
    "        continue\n"
   ]
  }
 ],
 "metadata": {
  "kernelspec": {
   "display_name": "Python 3",
   "language": "python",
   "name": "python3"
  },
  "language_info": {
   "codemirror_mode": {
    "name": "ipython",
    "version": 3
   },
   "file_extension": ".py",
   "mimetype": "text/x-python",
   "name": "python",
   "nbconvert_exporter": "python",
   "pygments_lexer": "ipython3",
   "version": "3.10.4"
  }
 },
 "nbformat": 4,
 "nbformat_minor": 2
}
